{
 "cells": [
  {
   "cell_type": "markdown",
   "metadata": {},
   "source": [
    "Declare the words"
   ]
  },
  {
   "cell_type": "code",
   "execution_count": 4,
   "metadata": {},
   "outputs": [],
   "source": [
    "words1 = 'managing', 'manage', 'management', 'managerial', 'managed'\n",
    "words2 = 'worked', 'workable', 'working', 'worked'\n",
    "words3 = 'big', 'biggest', 'bigger'\n",
    "words4 = 'go', 'gone', 'going', 'went'\n",
    "words5 = 'association', 'association', 'associate'"
   ]
  },
  {
   "cell_type": "code",
   "execution_count": 8,
   "metadata": {},
   "outputs": [
    {
     "data": {
      "text/plain": [
       "tuple"
      ]
     },
     "execution_count": 8,
     "metadata": {},
     "output_type": "execute_result"
    }
   ],
   "source": [
    "type(words1)"
   ]
  },
  {
   "cell_type": "markdown",
   "metadata": {},
   "source": [
    "Porter Stemmer"
   ]
  },
  {
   "cell_type": "code",
   "execution_count": 6,
   "metadata": {},
   "outputs": [],
   "source": [
    "from nltk.stem import PorterStemmer"
   ]
  },
  {
   "cell_type": "code",
   "execution_count": 9,
   "metadata": {},
   "outputs": [],
   "source": [
    "ps = PorterStemmer()"
   ]
  },
  {
   "cell_type": "code",
   "execution_count": 10,
   "metadata": {},
   "outputs": [
    {
     "data": {
      "text/plain": [
       "'manag'"
      ]
     },
     "execution_count": 10,
     "metadata": {},
     "output_type": "execute_result"
    }
   ],
   "source": [
    "ps.stem(words1[0])"
   ]
  },
  {
   "cell_type": "code",
   "execution_count": 11,
   "metadata": {},
   "outputs": [
    {
     "name": "stdout",
     "output_type": "stream",
     "text": [
      "managing --> manag\n",
      "manage --> manag\n",
      "management --> manag\n",
      "managerial --> manageri\n",
      "managed --> manag\n"
     ]
    }
   ],
   "source": [
    "for word in words1:\n",
    "    print(word, '-->', ps.stem(word))"
   ]
  },
  {
   "cell_type": "code",
   "execution_count": 12,
   "metadata": {},
   "outputs": [
    {
     "name": "stdout",
     "output_type": "stream",
     "text": [
      "worked --> work\n",
      "workable --> workabl\n",
      "working --> work\n",
      "worked --> work\n"
     ]
    }
   ],
   "source": [
    "for word in words2:\n",
    "    print(word, '-->', ps.stem(word))"
   ]
  },
  {
   "cell_type": "code",
   "execution_count": 13,
   "metadata": {},
   "outputs": [],
   "source": [
    "lst = [words1,words2,words3,words4,words5]"
   ]
  },
  {
   "cell_type": "code",
   "execution_count": 14,
   "metadata": {},
   "outputs": [
    {
     "name": "stdout",
     "output_type": "stream",
     "text": [
      " \n",
      "managing --> manag\n",
      "manage --> manag\n",
      "management --> manag\n",
      "managerial --> manageri\n",
      "managed --> manag\n",
      " \n",
      "worked --> work\n",
      "workable --> workabl\n",
      "working --> work\n",
      "worked --> work\n",
      " \n",
      "big --> big\n",
      "biggest --> biggest\n",
      "bigger --> bigger\n",
      " \n",
      "go --> go\n",
      "gone --> gone\n",
      "going --> go\n",
      "went --> went\n",
      " \n",
      "association --> associ\n",
      "association --> associ\n",
      "associate --> associ\n"
     ]
    }
   ],
   "source": [
    "for i in lst:\n",
    "    print(\" \")\n",
    "    for word in i:\n",
    "        print(word, '-->', ps.stem(word))"
   ]
  },
  {
   "cell_type": "code",
   "execution_count": 15,
   "metadata": {},
   "outputs": [],
   "source": [
    "sent = 'Hello friends! How are you? I like \"Python Programming\".'"
   ]
  },
  {
   "cell_type": "code",
   "execution_count": 16,
   "metadata": {},
   "outputs": [],
   "source": [
    "from nltk.tokenize import word_tokenize\n",
    "from nltk.corpus import stopwords"
   ]
  },
  {
   "cell_type": "code",
   "execution_count": 17,
   "metadata": {},
   "outputs": [],
   "source": [
    "swords = stopwords.words('english')"
   ]
  },
  {
   "cell_type": "code",
   "execution_count": 18,
   "metadata": {},
   "outputs": [
    {
     "data": {
      "text/plain": [
       "['Hello', 'friends', 'like', 'Python', 'Programming']"
      ]
     },
     "execution_count": 18,
     "metadata": {},
     "output_type": "execute_result"
    }
   ],
   "source": [
    "clean = [word for word in word_tokenize(sent) if word.lower() not in swords and word.isalnum()]\n",
    "clean"
   ]
  },
  {
   "cell_type": "code",
   "execution_count": 21,
   "metadata": {},
   "outputs": [
    {
     "name": "stdout",
     "output_type": "stream",
     "text": [
      "Hello --> hello\n",
      "friends --> friend\n",
      "like --> like\n",
      "Python --> python\n",
      "Programming --> program\n"
     ]
    },
    {
     "data": {
      "text/plain": [
       "['hello', 'friend', 'like', 'python', 'program']"
      ]
     },
     "execution_count": 21,
     "metadata": {},
     "output_type": "execute_result"
    }
   ],
   "source": [
    "clean2 = []\n",
    "for word in clean:\n",
    "    clean2.append(ps.stem(word))\n",
    "    print(word, '-->', ps.stem(word))\n",
    "\n",
    "clean2"
   ]
  },
  {
   "cell_type": "code",
   "execution_count": 25,
   "metadata": {},
   "outputs": [
    {
     "data": {
      "text/plain": [
       "['hello', 'friend', 'like', 'python', 'program']"
      ]
     },
     "execution_count": 25,
     "metadata": {},
     "output_type": "execute_result"
    }
   ],
   "source": [
    "clean2 = [ps.stem(word) for word in clean]\n",
    "clean2"
   ]
  },
  {
   "cell_type": "markdown",
   "metadata": {},
   "source": [
    "Lancaster Stemmer"
   ]
  },
  {
   "cell_type": "code",
   "execution_count": 26,
   "metadata": {},
   "outputs": [],
   "source": [
    "from nltk.stem import LancasterStemmer\n",
    "\n",
    "ls = LancasterStemmer()"
   ]
  },
  {
   "cell_type": "code",
   "execution_count": 30,
   "metadata": {},
   "outputs": [
    {
     "name": "stdout",
     "output_type": "stream",
     "text": [
      " \n",
      "managing --> man\n",
      "manage --> man\n",
      "management --> man\n",
      "managerial --> man\n",
      "managed --> man\n",
      " \n",
      "worked --> work\n",
      "workable --> work\n",
      "working --> work\n",
      "worked --> work\n",
      " \n",
      "big --> big\n",
      "biggest --> biggest\n",
      "bigger --> big\n",
      " \n",
      "go --> go\n",
      "gone --> gon\n",
      "going --> going\n",
      "went --> went\n",
      " \n",
      "association --> assocy\n",
      "association --> assocy\n",
      "associate --> assocy\n"
     ]
    }
   ],
   "source": [
    "for i in lst:\n",
    "    print(\" \")\n",
    "    for word in i:\n",
    "        print(word, '-->', ls.stem(word))"
   ]
  },
  {
   "cell_type": "markdown",
   "metadata": {},
   "source": [
    "Snowball Stemmer"
   ]
  },
  {
   "cell_type": "code",
   "execution_count": 32,
   "metadata": {},
   "outputs": [],
   "source": [
    "from nltk.stem import SnowballStemmer\n",
    "ss = SnowballStemmer('english')"
   ]
  },
  {
   "cell_type": "code",
   "execution_count": 33,
   "metadata": {},
   "outputs": [
    {
     "name": "stdout",
     "output_type": "stream",
     "text": [
      " \n",
      "managing --> manag\n",
      "manage --> manag\n",
      "management --> manag\n",
      "managerial --> manageri\n",
      "managed --> manag\n",
      " \n",
      "worked --> work\n",
      "workable --> workabl\n",
      "working --> work\n",
      "worked --> work\n",
      " \n",
      "big --> big\n",
      "biggest --> biggest\n",
      "bigger --> bigger\n",
      " \n",
      "go --> go\n",
      "gone --> gone\n",
      "going --> go\n",
      "went --> went\n",
      " \n",
      "association --> associ\n",
      "association --> associ\n",
      "associate --> associ\n"
     ]
    }
   ],
   "source": [
    "\n",
    "for i in lst:\n",
    "    print(\" \")\n",
    "    for word in i:\n",
    "        print(word, '-->', ss.stem(word))"
   ]
  },
  {
   "cell_type": "code",
   "execution_count": 37,
   "metadata": {},
   "outputs": [
    {
     "name": "stdout",
     "output_type": "stream",
     "text": [
      "word\tPorter\tLancaster\tSnowball\n",
      " \n",
      "managing \t manag \t man \t manag\n",
      "manage \t manag \t man \t manag\n",
      "management \t manag \t man \t manag\n",
      "managerial \t manageri \t man \t manageri\n",
      "managed \t manag \t man \t manag\n",
      " \n",
      "worked \t work \t work \t work\n",
      "workable \t workabl \t work \t workabl\n",
      "working \t work \t work \t work\n",
      "worked \t work \t work \t work\n",
      " \n",
      "big \t big \t big \t big\n",
      "biggest \t biggest \t biggest \t biggest\n",
      "bigger \t bigger \t big \t bigger\n",
      " \n",
      "go \t go \t go \t go\n",
      "gone \t gone \t gon \t gone\n",
      "going \t go \t going \t go\n",
      "went \t went \t went \t went\n",
      " \n",
      "association \t associ \t assocy \t associ\n",
      "association \t associ \t assocy \t associ\n",
      "associate \t associ \t assocy \t associ\n"
     ]
    }
   ],
   "source": [
    "print(\"word\\tPorter\\tLancaster\\tSnowball\")\n",
    "for i in lst:\n",
    "    print(\" \")\n",
    "    for word in i:\n",
    "        print(word, '\\t', ps.stem(word), '\\t', ls.stem(word), '\\t', ss.stem(word))"
   ]
  }
 ],
 "metadata": {
  "kernelspec": {
   "display_name": "New",
   "language": "python",
   "name": "python3"
  },
  "language_info": {
   "codemirror_mode": {
    "name": "ipython",
    "version": 3
   },
   "file_extension": ".py",
   "mimetype": "text/x-python",
   "name": "python",
   "nbconvert_exporter": "python",
   "pygments_lexer": "ipython3",
   "version": "3.10.13"
  }
 },
 "nbformat": 4,
 "nbformat_minor": 2
}
