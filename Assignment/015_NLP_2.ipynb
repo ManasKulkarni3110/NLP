{
 "cells": [
  {
   "cell_type": "markdown",
   "metadata": {},
   "source": [
    "## Name: Manas Manoj Kulkarni\n",
    "## PRN : 24034028015"
   ]
  },
  {
   "cell_type": "markdown",
   "metadata": {},
   "source": [
    "### Q.1\n",
    "\n",
    "#Copy the data about the NASA from wikipedia and perform following:\n",
    "\n",
    "#1. Apply POS tagging on this data\n",
    "\n",
    "#2. Remove punctuation symbols\n",
    "\n",
    "#3. Delete the stopwords\n",
    "\n",
    "#4. Perform morphological analysis on all the nouns\n",
    "\n",
    "#5. Find top three words in the data"
   ]
  },
  {
   "cell_type": "code",
   "execution_count": 1,
   "metadata": {},
   "outputs": [],
   "source": [
    "import nltk\n",
    "from nltk.corpus import stopwords\n",
    "from nltk.tokenize import word_tokenize\n",
    "from nltk.tag import pos_tag\n",
    "from nltk.stem import WordNetLemmatizer\n",
    "from collections import Counter\n",
    "import string"
   ]
  },
  {
   "cell_type": "code",
   "execution_count": 2,
   "metadata": {},
   "outputs": [
    {
     "name": "stderr",
     "output_type": "stream",
     "text": [
      "[nltk_data] Downloading package punkt to\n",
      "[nltk_data]     C:\\Users\\Admino\\AppData\\Roaming\\nltk_data...\n",
      "[nltk_data]   Package punkt is already up-to-date!\n",
      "[nltk_data] Downloading package averaged_perceptron_tagger to\n",
      "[nltk_data]     C:\\Users\\Admino\\AppData\\Roaming\\nltk_data...\n",
      "[nltk_data]   Package averaged_perceptron_tagger is already up-to-\n",
      "[nltk_data]       date!\n",
      "[nltk_data] Downloading package wordnet to\n",
      "[nltk_data]     C:\\Users\\Admino\\AppData\\Roaming\\nltk_data...\n",
      "[nltk_data]   Package wordnet is already up-to-date!\n",
      "[nltk_data] Downloading package stopwords to\n",
      "[nltk_data]     C:\\Users\\Admino\\AppData\\Roaming\\nltk_data...\n",
      "[nltk_data]   Package stopwords is already up-to-date!\n"
     ]
    },
    {
     "data": {
      "text/plain": [
       "True"
      ]
     },
     "execution_count": 2,
     "metadata": {},
     "output_type": "execute_result"
    }
   ],
   "source": [
    "# Download necessary NLTK data\n",
    "nltk.download('punkt')\n",
    "nltk.download('averaged_perceptron_tagger')\n",
    "nltk.download('wordnet')\n",
    "\n",
    "nltk.download('stopwords')"
   ]
  },
  {
   "cell_type": "code",
   "execution_count": 3,
   "metadata": {},
   "outputs": [],
   "source": [
    "# Sample text about NASA\n",
    "text = \"\"\"The National Aeronautics and Space Administration (NASA; /ˈnæsə/) is an independent agency of the U.S. federal government responsible for the civil space program, aeronautics research, and space research. Established in 1958, it succeeded the National Advisory Committee for Aeronautics (NACA) to give the U.S. space development effort a distinct civilian orientation, emphasizing peaceful applications in space science. It has since led most of America's space exploration programs, including Project Mercury, Project Gemini, the 1968–1972 Apollo Moon landing missions, the Skylab space station, and the Space Shuttle. Currently, NASA supports the International Space Station (ISS) along with the Commercial Crew Program, and oversees the development of the Orion spacecraft and the Space Launch System for the lunar Artemis program.\n",
    "NASA's science division is focused on better understanding Earth through the Earth Observing System; advancing heliophysics through the efforts of the Science Mission Directorate's Heliophysics Research Program; exploring bodies throughout the Solar System with advanced robotic spacecraft such as New Horizons and planetary rovers such as Perseverance; and researching astrophysics topics, such as the Big Bang, through the James Webb Space Telescope, the Great Observatories and associated programs. The Launch Services Program oversees launch operations for its uncrewed launches.\"\"\"\n"
   ]
  },
  {
   "cell_type": "code",
   "execution_count": 10,
   "metadata": {},
   "outputs": [
    {
     "name": "stdout",
     "output_type": "stream",
     "text": [
      "POS Tags:\n",
      " [('The', 'DT'), ('National', 'NNP'), ('Aeronautics', 'NNP'), ('and', 'CC'), ('Space', 'NNP'), ('Administration', 'NNP'), ('(', '('), ('NASA', 'NNP'), (';', ':'), ('/ˈnæsə/', 'NNP'), (')', ')'), ('is', 'VBZ'), ('an', 'DT'), ('independent', 'JJ'), ('agency', 'NN'), ('of', 'IN'), ('the', 'DT'), ('U.S.', 'NNP'), ('federal', 'JJ'), ('government', 'NN'), ('responsible', 'JJ'), ('for', 'IN'), ('the', 'DT'), ('civil', 'JJ'), ('space', 'NN'), ('program', 'NN'), (',', ','), ('aeronautics', 'NNS'), ('research', 'NN'), (',', ','), ('and', 'CC'), ('space', 'NN'), ('research', 'NN'), ('.', '.'), ('Established', 'VBN'), ('in', 'IN'), ('1958', 'CD'), (',', ','), ('it', 'PRP'), ('succeeded', 'VBD'), ('the', 'DT'), ('National', 'NNP'), ('Advisory', 'NNP'), ('Committee', 'NNP'), ('for', 'IN'), ('Aeronautics', 'NNP'), ('(', '('), ('NACA', 'NNP'), (')', ')'), ('to', 'TO'), ('give', 'VB'), ('the', 'DT'), ('U.S.', 'NNP'), ('space', 'NN'), ('development', 'NN'), ('effort', 'NN'), ('a', 'DT'), ('distinct', 'JJ'), ('civilian', 'JJ'), ('orientation', 'NN'), (',', ','), ('emphasizing', 'VBG'), ('peaceful', 'JJ'), ('applications', 'NNS'), ('in', 'IN'), ('space', 'NN'), ('science', 'NN'), ('.', '.'), ('It', 'PRP'), ('has', 'VBZ'), ('since', 'IN'), ('led', 'VBN'), ('most', 'JJS'), ('of', 'IN'), ('America', 'NNP'), (\"'s\", 'POS'), ('space', 'NN'), ('exploration', 'NN'), ('programs', 'NNS'), (',', ','), ('including', 'VBG'), ('Project', 'NNP'), ('Mercury', 'NNP'), (',', ','), ('Project', 'NNP'), ('Gemini', 'NNP'), (',', ','), ('the', 'DT'), ('1968–1972', 'CD'), ('Apollo', 'NNP'), ('Moon', 'NNP'), ('landing', 'VBG'), ('missions', 'NNS'), (',', ','), ('the', 'DT'), ('Skylab', 'NNP'), ('space', 'NN'), ('station', 'NN'), (',', ','), ('and', 'CC'), ('the', 'DT'), ('Space', 'NNP'), ('Shuttle', 'NNP'), ('.', '.'), ('Currently', 'NNP'), (',', ','), ('NASA', 'NNP'), ('supports', 'VBZ'), ('the', 'DT'), ('International', 'NNP'), ('Space', 'NNP'), ('Station', 'NNP'), ('(', '('), ('ISS', 'NNP'), (')', ')'), ('along', 'IN'), ('with', 'IN'), ('the', 'DT'), ('Commercial', 'JJ'), ('Crew', 'NNP'), ('Program', 'NNP'), (',', ','), ('and', 'CC'), ('oversees', 'VBZ'), ('the', 'DT'), ('development', 'NN'), ('of', 'IN'), ('the', 'DT'), ('Orion', 'NNP'), ('spacecraft', 'NN'), ('and', 'CC'), ('the', 'DT'), ('Space', 'NNP'), ('Launch', 'NNP'), ('System', 'NNP'), ('for', 'IN'), ('the', 'DT'), ('lunar', 'JJ'), ('Artemis', 'NNP'), ('program', 'NN'), ('.', '.'), ('NASA', 'NNP'), (\"'s\", 'POS'), ('science', 'NN'), ('division', 'NN'), ('is', 'VBZ'), ('focused', 'VBN'), ('on', 'IN'), ('better', 'JJR'), ('understanding', 'NN'), ('Earth', 'NNP'), ('through', 'IN'), ('the', 'DT'), ('Earth', 'NNP'), ('Observing', 'NNP'), ('System', 'NNP'), (';', ':'), ('advancing', 'VBG'), ('heliophysics', 'NNS'), ('through', 'IN'), ('the', 'DT'), ('efforts', 'NNS'), ('of', 'IN'), ('the', 'DT'), ('Science', 'NNP'), ('Mission', 'NNP'), ('Directorate', 'NNP'), (\"'s\", 'POS'), ('Heliophysics', 'NNP'), ('Research', 'NNP'), ('Program', 'NNP'), (';', ':'), ('exploring', 'VBG'), ('bodies', 'NNS'), ('throughout', 'IN'), ('the', 'DT'), ('Solar', 'NNP'), ('System', 'NNP'), ('with', 'IN'), ('advanced', 'JJ'), ('robotic', 'JJ'), ('spacecraft', 'NN'), ('such', 'JJ'), ('as', 'IN'), ('New', 'NNP'), ('Horizons', 'NNP'), ('and', 'CC'), ('planetary', 'JJ'), ('rovers', 'NNS'), ('such', 'JJ'), ('as', 'IN'), ('Perseverance', 'NNP'), (';', ':'), ('and', 'CC'), ('researching', 'VBG'), ('astrophysics', 'NNS'), ('topics', 'NNS'), (',', ','), ('such', 'JJ'), ('as', 'IN'), ('the', 'DT'), ('Big', 'NNP'), ('Bang', 'NNP'), (',', ','), ('through', 'IN'), ('the', 'DT'), ('James', 'NNP'), ('Webb', 'NNP'), ('Space', 'NNP'), ('Telescope', 'NNP'), (',', ','), ('the', 'DT'), ('Great', 'NNP'), ('Observatories', 'NNPS'), ('and', 'CC'), ('associated', 'VBN'), ('programs', 'NNS'), ('.', '.'), ('The', 'DT'), ('Launch', 'JJ'), ('Services', 'NNP'), ('Program', 'NNP'), ('oversees', 'VBZ'), ('launch', 'JJ'), ('operations', 'NNS'), ('for', 'IN'), ('its', 'PRP$'), ('uncrewed', 'JJ'), ('launches', 'NNS'), ('.', '.')]\n"
     ]
    }
   ],
   "source": [
    "# 1: Apply POS tagging\n",
    "tokens = word_tokenize(text)\n",
    "pos_tags = pos_tag(tokens)\n",
    "print(\"POS Tags:\\n\", pos_tags)"
   ]
  },
  {
   "cell_type": "code",
   "execution_count": 11,
   "metadata": {},
   "outputs": [
    {
     "name": "stdout",
     "output_type": "stream",
     "text": [
      "\n",
      "Text without punctuation:\n",
      " The National Aeronautics and Space Administration NASA ˈnæsə is an independent agency of the US federal government responsible for the civil space program aeronautics research and space research Established in 1958 it succeeded the National Advisory Committee for Aeronautics NACA to give the US space development effort a distinct civilian orientation emphasizing peaceful applications in space science It has since led most of Americas space exploration programs including Project Mercury Project Gemini the 1968–1972 Apollo Moon landing missions the Skylab space station and the Space Shuttle Currently NASA supports the International Space Station ISS along with the Commercial Crew Program and oversees the development of the Orion spacecraft and the Space Launch System for the lunar Artemis program\n",
      "NASAs science division is focused on better understanding Earth through the Earth Observing System advancing heliophysics through the efforts of the Science Mission Directorates Heliophysics Research Program exploring bodies throughout the Solar System with advanced robotic spacecraft such as New Horizons and planetary rovers such as Perseverance and researching astrophysics topics such as the Big Bang through the James Webb Space Telescope the Great Observatories and associated programs The Launch Services Program oversees launch operations for its uncrewed launches\n"
     ]
    }
   ],
   "source": [
    "# 2: Remove punctuation symbols\n",
    "text_no_punct = text.translate(str.maketrans('', '', string.punctuation))\n",
    "print(\"\\nText without punctuation:\\n\", text_no_punct)"
   ]
  },
  {
   "cell_type": "code",
   "execution_count": 12,
   "metadata": {},
   "outputs": [
    {
     "name": "stdout",
     "output_type": "stream",
     "text": [
      "\n",
      "Text without stopwords:\n",
      " National Aeronautics Space Administration NASA ˈnæsə independent agency US federal government responsible civil space program aeronautics research space research Established 1958 succeeded National Advisory Committee Aeronautics NACA give US space development effort distinct civilian orientation emphasizing peaceful applications space science since led Americas space exploration programs including Project Mercury Project Gemini 1968–1972 Apollo Moon landing missions Skylab space station Space Shuttle Currently NASA supports International Space Station ISS along Commercial Crew Program oversees development Orion spacecraft Space Launch System lunar Artemis program NASAs science division focused better understanding Earth Earth Observing System advancing heliophysics efforts Science Mission Directorates Heliophysics Research Program exploring bodies throughout Solar System advanced robotic spacecraft New Horizons planetary rovers Perseverance researching astrophysics topics Big Bang James Webb Space Telescope Great Observatories associated programs Launch Services Program oversees launch operations uncrewed launches\n"
     ]
    }
   ],
   "source": [
    "# 3: Delete the stopwords\n",
    "stop_words = set(stopwords.words('english'))\n",
    "tokens_no_stopwords = [word for word in word_tokenize(text_no_punct) if word.lower() not in stop_words]\n",
    "print(\"\\nText without stopwords:\\n\", ' '.join(tokens_no_stopwords))"
   ]
  },
  {
   "cell_type": "code",
   "execution_count": 13,
   "metadata": {},
   "outputs": [
    {
     "name": "stdout",
     "output_type": "stream",
     "text": [
      "\n",
      "Lemmatized nouns:\n",
      " ['National', 'Aeronautics', 'Space', 'Administration', 'NASA', 'ˈnæsə', 'agency', 'US', 'government', 'space', 'program', 'aeronautics', 'research', 'space', 'research', 'National', 'Advisory', 'Committee', 'Aeronautics', 'NACA', 'US', 'space', 'development', 'effort', 'orientation', 'application', 'space', 'science', 'Americas', 'space', 'exploration', 'program', 'Project', 'Mercury', 'Project', 'Gemini', 'Apollo', 'Moon', 'mission', 'Skylab', 'space', 'station', 'Space', 'Shuttle', 'Currently', 'NASA', 'International', 'Space', 'Station', 'ISS', 'Commercial', 'Crew', 'Program', 'development', 'Orion', 'spacecraft', 'Space', 'Launch', 'System', 'Artemis', 'program', 'NASAs', 'science', 'division', 'Earth', 'Earth', 'Observing', 'System', 'heliophysics', 'effort', 'Science', 'Mission', 'Directorates', 'Heliophysics', 'Research', 'Program', 'body', 'System', 'spacecraft', 'New', 'Horizons', 'rover', 'Perseverance', 'astrophysics', 'topic', 'Big', 'Bang', 'James', 'Webb', 'Space', 'Telescope', 'Great', 'Observatories', 'program', 'Launch', 'Services', 'Program', 'operation', 'launch']\n"
     ]
    }
   ],
   "source": [
    "# 4: Perform morphological analysis on all the nouns\n",
    "lemmatizer = WordNetLemmatizer()\n",
    "nouns = [word for word, pos in pos_tag(tokens_no_stopwords) if pos.startswith('NN')]\n",
    "lemmatized_nouns = [lemmatizer.lemmatize(noun) for noun in nouns]\n",
    "print(\"\\nLemmatized nouns:\\n\", lemmatized_nouns)"
   ]
  },
  {
   "cell_type": "code",
   "execution_count": 14,
   "metadata": {},
   "outputs": [
    {
     "name": "stdout",
     "output_type": "stream",
     "text": [
      "\n",
      "Top three words:\n",
      " [('space', 6), ('Space', 5), ('Program', 3)]\n"
     ]
    }
   ],
   "source": [
    "# Step 5: Find top three words in the data\n",
    "word_freq = Counter(tokens_no_stopwords)\n",
    "top_three_words = word_freq.most_common(3)\n",
    "print(\"\\nTop three words:\\n\", top_three_words)"
   ]
  },
  {
   "cell_type": "markdown",
   "metadata": {},
   "source": [
    "#### Q.2\n",
    "\n",
    "#Open the wikipedia page of Pune\n",
    "\n",
    "#Find the adjectives used in the text"
   ]
  },
  {
   "cell_type": "code",
   "execution_count": 15,
   "metadata": {},
   "outputs": [],
   "source": [
    "text_pune = \"\"\"Pune (/ˈpuːnə/ POO-nə, Marathi: [ˈpuɳe] ⓘ), previously spelled in English as Poona (the official name until 1978),[15][16] is a city in Maharashtra state in the Deccan plateau in Western India. It is the administrative headquarters of the Pune district, and of Pune division. According to the 2011 Census of India, Pune has 7.2 million residents in the metropolitan region, making it the eighth-most populous metropolitan area in India.[17] The city of Pune is part of Pune Metropolitan Region.[18] Pune is one of the largest IT hubs in India.[19][20] It is also one of the most important automobile and manufacturing hubs of India. Pune is often referred to as the \"Oxford of the East\" because of its highly regarded educational institutions.[21][22][23] It has been ranked \"the most liveable city in India\" several times.[24][25]\n",
    "\n",
    "Pune at different points in time has been ruled by the Rashtrakuta dynasty, Ahmadnagar Sultanate, the Mughals, and the Adil Shahi dynasty. In the 18th century, the city was part of the Maratha Empire, and the seat of the Peshwas, the prime ministers of the Maratha Empire.[26] Many historical landmarks like Pataleshwar caves, Shaniwarwada, Shinde Chhatri, and Vishrambaug Wada date to this era. Historical sites from different eras dot the city.\n",
    "\n",
    "Pune has historically been a major cultural centre, with important figures like Dnyaneshwar, Shivaji, Tukaram, Baji Rao I, Balaji Baji Rao, Madhavrao I, Nana Fadnavis, Mahadev Govind Ranade, Gopal Krishna Gokhale, Mahatma Jyotirao Phule, Savitribai Phule, Gopal Ganesh Agarkar, Tarabai Shinde, Dhondo Keshav Karve, and Pandita Ramabai doing their life's work in Pune City or in an area that falls in Pune Metropolitan Region. Pune was a major centre of resistance to British Raj, with people like Gopal Krishna Gokhale, Bal Gangadhar Tilak and Vinayak Damodar Savarkar playing leading roles in struggle for Indian independence in their times.\"\"\""
   ]
  },
  {
   "cell_type": "code",
   "execution_count": 16,
   "metadata": {},
   "outputs": [],
   "source": [
    "# Tokenize and POS tag the text\n",
    "tokens_pune = word_tokenize(text_pune)\n",
    "pos_tags_pune = pos_tag(tokens_pune)"
   ]
  },
  {
   "cell_type": "code",
   "execution_count": 17,
   "metadata": {},
   "outputs": [
    {
     "name": "stdout",
     "output_type": "stream",
     "text": [
      "Adjectives in Pune Wikipedia page:\n",
      " ['/ˈpuːnə/', 'Western', 'administrative', 'metropolitan', 'eighth-most', 'populous', 'metropolitan', ']', 'important', 'regarded', 'educational', 'liveable', 'several', ']', 'different', '18th', 'prime', ']', 'Many', 'historical', 'Historical', 'different', 'major', 'cultural', 'important', 'major', 'Indian']\n"
     ]
    }
   ],
   "source": [
    "\n",
    "# Extract adjectives\n",
    "adjectives = [word for word, pos in pos_tags_pune if pos == 'JJ']\n",
    "\n",
    "print(\"Adjectives in Pune Wikipedia page:\\n\", adjectives)"
   ]
  }
 ],
 "metadata": {
  "kernelspec": {
   "display_name": "base",
   "language": "python",
   "name": "python3"
  },
  "language_info": {
   "codemirror_mode": {
    "name": "ipython",
    "version": 3
   },
   "file_extension": ".py",
   "mimetype": "text/x-python",
   "name": "python",
   "nbconvert_exporter": "python",
   "pygments_lexer": "ipython3",
   "version": "3.11.7"
  }
 },
 "nbformat": 4,
 "nbformat_minor": 2
}
