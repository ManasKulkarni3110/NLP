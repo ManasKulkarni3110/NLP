{
 "cells": [
  {
   "cell_type": "markdown",
   "metadata": {},
   "source": [
    "### Library Installation"
   ]
  },
  {
   "cell_type": "code",
   "execution_count": 1,
   "metadata": {},
   "outputs": [
    {
     "name": "stdout",
     "output_type": "stream",
     "text": [
      "Requirement already satisfied: nltk in c:\\users\\admino\\anaconda3\\lib\\site-packages (3.8.1)\n",
      "Requirement already satisfied: click in c:\\users\\admino\\anaconda3\\lib\\site-packages (from nltk) (8.1.7)\n",
      "Requirement already satisfied: joblib in c:\\users\\admino\\anaconda3\\lib\\site-packages (from nltk) (1.2.0)\n",
      "Requirement already satisfied: regex>=2021.8.3 in c:\\users\\admino\\anaconda3\\lib\\site-packages (from nltk) (2023.10.3)\n",
      "Requirement already satisfied: tqdm in c:\\users\\admino\\anaconda3\\lib\\site-packages (from nltk) (4.65.0)\n",
      "Requirement already satisfied: colorama in c:\\users\\admino\\anaconda3\\lib\\site-packages (from click->nltk) (0.4.6)\n"
     ]
    }
   ],
   "source": [
    "! pip install nltk"
   ]
  },
  {
   "cell_type": "code",
   "execution_count": 2,
   "metadata": {},
   "outputs": [
    {
     "name": "stdout",
     "output_type": "stream",
     "text": [
      "Collecting spacy\n",
      "  Downloading spacy-3.7.4-cp311-cp311-win_amd64.whl.metadata (27 kB)\n",
      "Collecting spacy-legacy<3.1.0,>=3.0.11 (from spacy)\n",
      "  Downloading spacy_legacy-3.0.12-py2.py3-none-any.whl.metadata (2.8 kB)\n",
      "Collecting spacy-loggers<2.0.0,>=1.0.0 (from spacy)\n",
      "  Downloading spacy_loggers-1.0.5-py3-none-any.whl.metadata (23 kB)\n",
      "Collecting murmurhash<1.1.0,>=0.28.0 (from spacy)\n",
      "  Downloading murmurhash-1.0.10-cp311-cp311-win_amd64.whl.metadata (2.0 kB)\n",
      "Collecting cymem<2.1.0,>=2.0.2 (from spacy)\n",
      "  Downloading cymem-2.0.8-cp311-cp311-win_amd64.whl.metadata (8.6 kB)\n",
      "Collecting preshed<3.1.0,>=3.0.2 (from spacy)\n",
      "  Downloading preshed-3.0.9-cp311-cp311-win_amd64.whl.metadata (2.2 kB)\n",
      "Collecting thinc<8.3.0,>=8.2.2 (from spacy)\n",
      "  Downloading thinc-8.2.3-cp311-cp311-win_amd64.whl.metadata (15 kB)\n",
      "Collecting wasabi<1.2.0,>=0.9.1 (from spacy)\n",
      "  Downloading wasabi-1.1.3-py3-none-any.whl.metadata (28 kB)\n",
      "Collecting srsly<3.0.0,>=2.4.3 (from spacy)\n",
      "  Downloading srsly-2.4.8-cp311-cp311-win_amd64.whl.metadata (20 kB)\n",
      "Collecting catalogue<2.1.0,>=2.0.6 (from spacy)\n",
      "  Downloading catalogue-2.0.10-py3-none-any.whl.metadata (14 kB)\n",
      "Collecting weasel<0.4.0,>=0.1.0 (from spacy)\n",
      "  Downloading weasel-0.3.4-py3-none-any.whl.metadata (4.7 kB)\n",
      "Collecting typer<0.10.0,>=0.3.0 (from spacy)\n",
      "  Downloading typer-0.9.4-py3-none-any.whl.metadata (14 kB)\n",
      "Requirement already satisfied: smart-open<7.0.0,>=5.2.1 in c:\\users\\admino\\anaconda3\\lib\\site-packages (from spacy) (5.2.1)\n",
      "Requirement already satisfied: tqdm<5.0.0,>=4.38.0 in c:\\users\\admino\\anaconda3\\lib\\site-packages (from spacy) (4.65.0)\n",
      "Requirement already satisfied: requests<3.0.0,>=2.13.0 in c:\\users\\admino\\anaconda3\\lib\\site-packages (from spacy) (2.31.0)\n",
      "Requirement already satisfied: pydantic!=1.8,!=1.8.1,<3.0.0,>=1.7.4 in c:\\users\\admino\\anaconda3\\lib\\site-packages (from spacy) (1.10.12)\n",
      "Requirement already satisfied: jinja2 in c:\\users\\admino\\anaconda3\\lib\\site-packages (from spacy) (3.1.3)\n",
      "Requirement already satisfied: setuptools in c:\\users\\admino\\anaconda3\\lib\\site-packages (from spacy) (68.2.2)\n",
      "Requirement already satisfied: packaging>=20.0 in c:\\users\\admino\\anaconda3\\lib\\site-packages (from spacy) (23.1)\n",
      "Collecting langcodes<4.0.0,>=3.2.0 (from spacy)\n",
      "  Downloading langcodes-3.4.0-py3-none-any.whl.metadata (29 kB)\n",
      "Requirement already satisfied: numpy>=1.19.0 in c:\\users\\admino\\anaconda3\\lib\\site-packages (from spacy) (1.26.4)\n",
      "Collecting language-data>=1.2 (from langcodes<4.0.0,>=3.2.0->spacy)\n",
      "  Downloading language_data-1.2.0-py3-none-any.whl.metadata (4.3 kB)\n",
      "Requirement already satisfied: typing-extensions>=4.2.0 in c:\\users\\admino\\anaconda3\\lib\\site-packages (from pydantic!=1.8,!=1.8.1,<3.0.0,>=1.7.4->spacy) (4.9.0)\n",
      "Requirement already satisfied: charset-normalizer<4,>=2 in c:\\users\\admino\\anaconda3\\lib\\site-packages (from requests<3.0.0,>=2.13.0->spacy) (2.0.4)\n",
      "Requirement already satisfied: idna<4,>=2.5 in c:\\users\\admino\\anaconda3\\lib\\site-packages (from requests<3.0.0,>=2.13.0->spacy) (3.4)\n",
      "Requirement already satisfied: urllib3<3,>=1.21.1 in c:\\users\\admino\\anaconda3\\lib\\site-packages (from requests<3.0.0,>=2.13.0->spacy) (2.0.7)\n",
      "Requirement already satisfied: certifi>=2017.4.17 in c:\\users\\admino\\anaconda3\\lib\\site-packages (from requests<3.0.0,>=2.13.0->spacy) (2024.2.2)\n",
      "Collecting blis<0.8.0,>=0.7.8 (from thinc<8.3.0,>=8.2.2->spacy)\n",
      "  Downloading blis-0.7.11-cp311-cp311-win_amd64.whl.metadata (7.6 kB)\n",
      "Collecting confection<1.0.0,>=0.0.1 (from thinc<8.3.0,>=8.2.2->spacy)\n",
      "  Downloading confection-0.1.5-py3-none-any.whl.metadata (19 kB)\n",
      "Requirement already satisfied: colorama in c:\\users\\admino\\anaconda3\\lib\\site-packages (from tqdm<5.0.0,>=4.38.0->spacy) (0.4.6)\n",
      "Requirement already satisfied: click<9.0.0,>=7.1.1 in c:\\users\\admino\\anaconda3\\lib\\site-packages (from typer<0.10.0,>=0.3.0->spacy) (8.1.7)\n",
      "Collecting cloudpathlib<0.17.0,>=0.7.0 (from weasel<0.4.0,>=0.1.0->spacy)\n",
      "  Downloading cloudpathlib-0.16.0-py3-none-any.whl.metadata (14 kB)\n",
      "Requirement already satisfied: MarkupSafe>=2.0 in c:\\users\\admino\\anaconda3\\lib\\site-packages (from jinja2->spacy) (2.1.3)\n",
      "Collecting marisa-trie>=0.7.7 (from language-data>=1.2->langcodes<4.0.0,>=3.2.0->spacy)\n",
      "  Downloading marisa_trie-1.1.1-cp311-cp311-win_amd64.whl.metadata (8.9 kB)\n",
      "Downloading spacy-3.7.4-cp311-cp311-win_amd64.whl (12.1 MB)\n",
      "   ---------------------------------------- 0.0/12.1 MB ? eta -:--:--\n",
      "   - -------------------------------------- 0.3/12.1 MB 9.9 MB/s eta 0:00:02\n",
      "   - -------------------------------------- 0.6/12.1 MB 7.2 MB/s eta 0:00:02\n",
      "   --- ------------------------------------ 1.0/12.1 MB 7.2 MB/s eta 0:00:02\n",
      "   ---- ----------------------------------- 1.4/12.1 MB 7.4 MB/s eta 0:00:02\n",
      "   ----- ---------------------------------- 1.7/12.1 MB 7.1 MB/s eta 0:00:02\n",
      "   ------ --------------------------------- 2.0/12.1 MB 7.1 MB/s eta 0:00:02\n",
      "   ------- -------------------------------- 2.3/12.1 MB 7.1 MB/s eta 0:00:02\n",
      "   -------- ------------------------------- 2.7/12.1 MB 7.2 MB/s eta 0:00:02\n",
      "   ---------- ----------------------------- 3.1/12.1 MB 7.3 MB/s eta 0:00:02\n",
      "   ----------- ---------------------------- 3.5/12.1 MB 7.4 MB/s eta 0:00:02\n",
      "   ------------ --------------------------- 3.9/12.1 MB 7.5 MB/s eta 0:00:02\n",
      "   ------------- -------------------------- 4.2/12.1 MB 7.6 MB/s eta 0:00:02\n",
      "   --------------- ------------------------ 4.6/12.1 MB 7.5 MB/s eta 0:00:01\n",
      "   ---------------- ----------------------- 4.9/12.1 MB 7.6 MB/s eta 0:00:01\n",
      "   ---------------- ----------------------- 4.9/12.1 MB 7.6 MB/s eta 0:00:01\n",
      "   ------------------ --------------------- 5.5/12.1 MB 7.4 MB/s eta 0:00:01\n",
      "   ------------------- -------------------- 5.9/12.1 MB 7.4 MB/s eta 0:00:01\n",
      "   -------------------- ------------------- 6.2/12.1 MB 7.4 MB/s eta 0:00:01\n",
      "   --------------------- ------------------ 6.6/12.1 MB 7.4 MB/s eta 0:00:01\n",
      "   ----------------------- ---------------- 7.0/12.1 MB 7.4 MB/s eta 0:00:01\n",
      "   ------------------------ --------------- 7.3/12.1 MB 7.4 MB/s eta 0:00:01\n",
      "   ------------------------- -------------- 7.7/12.1 MB 7.5 MB/s eta 0:00:01\n",
      "   --------------------------- ------------ 8.2/12.1 MB 7.6 MB/s eta 0:00:01\n",
      "   ---------------------------- ----------- 8.6/12.1 MB 7.6 MB/s eta 0:00:01\n",
      "   ----------------------------- ---------- 9.0/12.1 MB 7.7 MB/s eta 0:00:01\n",
      "   ------------------------------- -------- 9.4/12.1 MB 7.7 MB/s eta 0:00:01\n",
      "   -------------------------------- ------- 9.8/12.1 MB 7.7 MB/s eta 0:00:01\n",
      "   --------------------------------- ------ 10.3/12.1 MB 7.8 MB/s eta 0:00:01\n",
      "   ----------------------------------- ---- 10.7/12.1 MB 8.0 MB/s eta 0:00:01\n",
      "   ------------------------------------- -- 11.2/12.1 MB 8.1 MB/s eta 0:00:01\n",
      "   -------------------------------------- - 11.6/12.1 MB 8.1 MB/s eta 0:00:01\n",
      "   ---------------------------------------  12.0/12.1 MB 8.2 MB/s eta 0:00:01\n",
      "   ---------------------------------------  12.1/12.1 MB 8.3 MB/s eta 0:00:01\n",
      "   ---------------------------------------- 12.1/12.1 MB 7.8 MB/s eta 0:00:00\n",
      "Downloading catalogue-2.0.10-py3-none-any.whl (17 kB)\n",
      "Downloading cymem-2.0.8-cp311-cp311-win_amd64.whl (39 kB)\n",
      "Downloading langcodes-3.4.0-py3-none-any.whl (182 kB)\n",
      "   ---------------------------------------- 0.0/182.0 kB ? eta -:--:--\n",
      "   ---------------------------------------- 182.0/182.0 kB 5.4 MB/s eta 0:00:00\n",
      "Downloading murmurhash-1.0.10-cp311-cp311-win_amd64.whl (25 kB)\n",
      "Downloading preshed-3.0.9-cp311-cp311-win_amd64.whl (122 kB)\n",
      "   ---------------------------------------- 0.0/122.3 kB ? eta -:--:--\n",
      "   ---------------------------------------- 122.3/122.3 kB 3.6 MB/s eta 0:00:00\n",
      "Downloading spacy_legacy-3.0.12-py2.py3-none-any.whl (29 kB)\n",
      "Downloading spacy_loggers-1.0.5-py3-none-any.whl (22 kB)\n",
      "Downloading srsly-2.4.8-cp311-cp311-win_amd64.whl (479 kB)\n",
      "   ---------------------------------------- 0.0/479.7 kB ? eta -:--:--\n",
      "   --------------------------------------  471.0/479.7 kB 14.9 MB/s eta 0:00:01\n",
      "   ---------------------------------------- 479.7/479.7 kB 7.6 MB/s eta 0:00:00\n",
      "Downloading thinc-8.2.3-cp311-cp311-win_amd64.whl (1.5 MB)\n",
      "   ---------------------------------------- 0.0/1.5 MB ? eta -:--:--\n",
      "   ---------- ----------------------------- 0.4/1.5 MB 12.2 MB/s eta 0:00:01\n",
      "   --------------------- ------------------ 0.8/1.5 MB 10.1 MB/s eta 0:00:01\n",
      "   ------------------------------- -------- 1.2/1.5 MB 9.2 MB/s eta 0:00:01\n",
      "   ---------------------------------------  1.5/1.5 MB 9.4 MB/s eta 0:00:01\n",
      "   ---------------------------------------- 1.5/1.5 MB 7.8 MB/s eta 0:00:00\n",
      "Downloading typer-0.9.4-py3-none-any.whl (45 kB)\n",
      "   ---------------------------------------- 0.0/46.0 kB ? eta -:--:--\n",
      "   ---------------------------------------- 46.0/46.0 kB 1.2 MB/s eta 0:00:00\n",
      "Downloading wasabi-1.1.3-py3-none-any.whl (27 kB)\n",
      "Downloading weasel-0.3.4-py3-none-any.whl (50 kB)\n",
      "   ---------------------------------------- 0.0/50.1 kB ? eta -:--:--\n",
      "   ---------------------------------------- 50.1/50.1 kB 2.7 MB/s eta 0:00:00\n",
      "Downloading blis-0.7.11-cp311-cp311-win_amd64.whl (6.6 MB)\n",
      "   ---------------------------------------- 0.0/6.6 MB ? eta -:--:--\n",
      "   --- ------------------------------------ 0.5/6.6 MB 15.9 MB/s eta 0:00:01\n",
      "   ----- ---------------------------------- 1.0/6.6 MB 10.1 MB/s eta 0:00:01\n",
      "   ------- -------------------------------- 1.3/6.6 MB 10.4 MB/s eta 0:00:01\n",
      "   ---------- ----------------------------- 1.7/6.6 MB 8.9 MB/s eta 0:00:01\n",
      "   ------------ --------------------------- 2.0/6.6 MB 9.1 MB/s eta 0:00:01\n",
      "   ------------- -------------------------- 2.3/6.6 MB 8.6 MB/s eta 0:00:01\n",
      "   --------------- ------------------------ 2.6/6.6 MB 8.4 MB/s eta 0:00:01\n",
      "   ------------------ --------------------- 3.1/6.6 MB 8.2 MB/s eta 0:00:01\n",
      "   --------------------- ------------------ 3.5/6.6 MB 8.6 MB/s eta 0:00:01\n",
      "   ----------------------- ---------------- 3.8/6.6 MB 8.2 MB/s eta 0:00:01\n",
      "   ------------------------- -------------- 4.2/6.6 MB 8.1 MB/s eta 0:00:01\n",
      "   --------------------------- ------------ 4.6/6.6 MB 8.2 MB/s eta 0:00:01\n",
      "   ------------------------------ --------- 5.0/6.6 MB 8.2 MB/s eta 0:00:01\n",
      "   ------------------------------- -------- 5.1/6.6 MB 8.2 MB/s eta 0:00:01\n",
      "   ---------------------------------- ----- 5.6/6.6 MB 8.0 MB/s eta 0:00:01\n",
      "   ------------------------------------ --- 6.0/6.6 MB 8.0 MB/s eta 0:00:01\n",
      "   ---------------------------------------  6.5/6.6 MB 8.1 MB/s eta 0:00:01\n",
      "   ---------------------------------------  6.6/6.6 MB 8.0 MB/s eta 0:00:01\n",
      "   ---------------------------------------- 6.6/6.6 MB 7.5 MB/s eta 0:00:00\n",
      "Downloading cloudpathlib-0.16.0-py3-none-any.whl (45 kB)\n",
      "   ---------------------------------------- 0.0/45.0 kB ? eta -:--:--\n",
      "   ---------------------------------------- 45.0/45.0 kB 1.1 MB/s eta 0:00:00\n",
      "Downloading confection-0.1.5-py3-none-any.whl (35 kB)\n",
      "Downloading language_data-1.2.0-py3-none-any.whl (5.4 MB)\n",
      "   ---------------------------------------- 0.0/5.4 MB ? eta -:--:--\n",
      "   -- ------------------------------------- 0.3/5.4 MB 5.9 MB/s eta 0:00:01\n",
      "   --- ------------------------------------ 0.4/5.4 MB 6.6 MB/s eta 0:00:01\n",
      "   ------- -------------------------------- 1.0/5.4 MB 7.0 MB/s eta 0:00:01\n",
      "   ---------- ----------------------------- 1.5/5.4 MB 8.5 MB/s eta 0:00:01\n",
      "   ------------- -------------------------- 1.8/5.4 MB 7.8 MB/s eta 0:00:01\n",
      "   ---------------- ----------------------- 2.3/5.4 MB 8.5 MB/s eta 0:00:01\n",
      "   ------------------- -------------------- 2.6/5.4 MB 8.0 MB/s eta 0:00:01\n",
      "   ---------------------- ----------------- 3.0/5.4 MB 8.3 MB/s eta 0:00:01\n",
      "   ------------------------- -------------- 3.4/5.4 MB 8.4 MB/s eta 0:00:01\n",
      "   ---------------------------- ----------- 3.9/5.4 MB 8.5 MB/s eta 0:00:01\n",
      "   ------------------------------ --------- 4.1/5.4 MB 8.0 MB/s eta 0:00:01\n",
      "   --------------------------------- ------ 4.5/5.4 MB 8.0 MB/s eta 0:00:01\n",
      "   ------------------------------------ --- 4.9/5.4 MB 8.1 MB/s eta 0:00:01\n",
      "   -------------------------------------- - 5.1/5.4 MB 8.0 MB/s eta 0:00:01\n",
      "   -------------------------------------- - 5.2/5.4 MB 7.6 MB/s eta 0:00:01\n",
      "   ---------------------------------------  5.4/5.4 MB 7.3 MB/s eta 0:00:01\n",
      "   ---------------------------------------- 5.4/5.4 MB 6.9 MB/s eta 0:00:00\n",
      "Downloading marisa_trie-1.1.1-cp311-cp311-win_amd64.whl (153 kB)\n",
      "   ---------------------------------------- 0.0/153.3 kB ? eta -:--:--\n",
      "   ---------------------------------------- 153.3/153.3 kB 4.6 MB/s eta 0:00:00\n",
      "Installing collected packages: cymem, wasabi, spacy-loggers, spacy-legacy, murmurhash, marisa-trie, cloudpathlib, catalogue, blis, typer, srsly, preshed, language-data, langcodes, confection, weasel, thinc, spacy\n",
      "Successfully installed blis-0.7.11 catalogue-2.0.10 cloudpathlib-0.16.0 confection-0.1.5 cymem-2.0.8 langcodes-3.4.0 language-data-1.2.0 marisa-trie-1.1.1 murmurhash-1.0.10 preshed-3.0.9 spacy-3.7.4 spacy-legacy-3.0.12 spacy-loggers-1.0.5 srsly-2.4.8 thinc-8.2.3 typer-0.9.4 wasabi-1.1.3 weasel-0.3.4\n"
     ]
    }
   ],
   "source": [
    "! pip install spacy"
   ]
  },
  {
   "cell_type": "code",
   "execution_count": 3,
   "metadata": {},
   "outputs": [
    {
     "name": "stdout",
     "output_type": "stream",
     "text": [
      "Collecting textblob\n",
      "  Downloading textblob-0.18.0.post0-py3-none-any.whl.metadata (4.5 kB)\n",
      "Requirement already satisfied: nltk>=3.8 in c:\\users\\admino\\anaconda3\\lib\\site-packages (from textblob) (3.8.1)\n",
      "Requirement already satisfied: click in c:\\users\\admino\\anaconda3\\lib\\site-packages (from nltk>=3.8->textblob) (8.1.7)\n",
      "Requirement already satisfied: joblib in c:\\users\\admino\\anaconda3\\lib\\site-packages (from nltk>=3.8->textblob) (1.2.0)\n",
      "Requirement already satisfied: regex>=2021.8.3 in c:\\users\\admino\\anaconda3\\lib\\site-packages (from nltk>=3.8->textblob) (2023.10.3)\n",
      "Requirement already satisfied: tqdm in c:\\users\\admino\\anaconda3\\lib\\site-packages (from nltk>=3.8->textblob) (4.65.0)\n",
      "Requirement already satisfied: colorama in c:\\users\\admino\\anaconda3\\lib\\site-packages (from click->nltk>=3.8->textblob) (0.4.6)\n",
      "Downloading textblob-0.18.0.post0-py3-none-any.whl (626 kB)\n",
      "   ---------------------------------------- 0.0/626.3 kB ? eta -:--:--\n",
      "   ------- -------------------------------- 122.9/626.3 kB 2.4 MB/s eta 0:00:01\n",
      "   ---------------------------- ----------- 440.3/626.3 kB 4.6 MB/s eta 0:00:01\n",
      "   ---------------------------------------- 626.3/626.3 kB 4.4 MB/s eta 0:00:00\n",
      "Installing collected packages: textblob\n",
      "Successfully installed textblob-0.18.0.post0\n"
     ]
    }
   ],
   "source": [
    "! pip install textblob"
   ]
  },
  {
   "cell_type": "code",
   "execution_count": 4,
   "metadata": {},
   "outputs": [],
   "source": [
    "import nltk"
   ]
  },
  {
   "cell_type": "code",
   "execution_count": 5,
   "metadata": {},
   "outputs": [
    {
     "name": "stderr",
     "output_type": "stream",
     "text": [
      "[nltk_data] Downloading package punkt to\n",
      "[nltk_data]     C:\\Users\\Admino\\AppData\\Roaming\\nltk_data...\n",
      "[nltk_data]   Unzipping tokenizers\\punkt.zip.\n",
      "[nltk_data] Downloading package stopwords to\n",
      "[nltk_data]     C:\\Users\\Admino\\AppData\\Roaming\\nltk_data...\n",
      "[nltk_data]   Unzipping corpora\\stopwords.zip.\n",
      "[nltk_data] Error loading averaged_preceptron_tagger: Package\n",
      "[nltk_data]     'averaged_preceptron_tagger' not found in index\n",
      "[nltk_data] Downloading package wordnet to\n",
      "[nltk_data]     C:\\Users\\Admino\\AppData\\Roaming\\nltk_data...\n",
      "[nltk_data] Downloading package omw-1.4 to\n",
      "[nltk_data]     C:\\Users\\Admino\\AppData\\Roaming\\nltk_data...\n",
      "[nltk_data] Downloading package indian to\n",
      "[nltk_data]     C:\\Users\\Admino\\AppData\\Roaming\\nltk_data...\n",
      "[nltk_data]   Unzipping corpora\\indian.zip.\n"
     ]
    },
    {
     "data": {
      "text/plain": [
       "True"
      ]
     },
     "execution_count": 5,
     "metadata": {},
     "output_type": "execute_result"
    }
   ],
   "source": [
    "nltk.download(\"punkt\") # Tokenization\n",
    "nltk.download('stopwords') # Stopwords Removal\n",
    "nltk.download('averaged_preceptron_tagger') # POS Tagging\n",
    "nltk.download(\"wordnet\") # wordnet database and lemmatization\n",
    "nltk.download(\"omw-1.4\") # Stemming\n",
    "nltk.download(\"indian\") # Indian Language POS tagging"
   ]
  },
  {
   "cell_type": "code",
   "execution_count": 6,
   "metadata": {},
   "outputs": [
    {
     "name": "stderr",
     "output_type": "stream",
     "text": [
      "[nltk_data] Downloading package averaged_perceptron_tagger to\n",
      "[nltk_data]     C:\\Users\\Admino\\AppData\\Roaming\\nltk_data...\n",
      "[nltk_data]   Unzipping taggers\\averaged_perceptron_tagger.zip.\n"
     ]
    },
    {
     "data": {
      "text/plain": [
       "True"
      ]
     },
     "execution_count": 6,
     "metadata": {},
     "output_type": "execute_result"
    }
   ],
   "source": [
    "nltk.download('averaged_perceptron_tagger')"
   ]
  }
 ],
 "metadata": {
  "kernelspec": {
   "display_name": "base",
   "language": "python",
   "name": "python3"
  },
  "language_info": {
   "codemirror_mode": {
    "name": "ipython",
    "version": 3
   },
   "file_extension": ".py",
   "mimetype": "text/x-python",
   "name": "python",
   "nbconvert_exporter": "python",
   "pygments_lexer": "ipython3",
   "version": "3.11.7"
  }
 },
 "nbformat": 4,
 "nbformat_minor": 2
}
