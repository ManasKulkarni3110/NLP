{
  "cells": [
    {
      "cell_type": "code",
      "execution_count": 6,
      "metadata": {
        "colab": {
          "base_uri": "https://localhost:8080/"
        },
        "id": "-eqKdQH0inQV",
        "outputId": "850877bc-4c06-4861-a108-3769d4bf1335"
      },
      "outputs": [
        {
          "name": "stdout",
          "output_type": "stream",
          "text": [
            "Requirement already satisfied: morfessor in /usr/local/lib/python3.10/dist-packages (2.0.6)\n",
            "Requirement already satisfied: polyglot in /usr/local/lib/python3.10/dist-packages (16.7.4)\n",
            "Requirement already satisfied: pyICU in /usr/local/lib/python3.10/dist-packages (2.13.1)\n",
            "Collecting pycld2\n",
            "  Downloading pycld2-0.41.tar.gz (41.4 MB)\n",
            "\u001b[2K     \u001b[90m━━━━━━━━━━━━━━━━━━━━━━━━━━━━━━━━━━━━━━━━\u001b[0m \u001b[32m41.4/41.4 MB\u001b[0m \u001b[31m23.8 MB/s\u001b[0m eta \u001b[36m0:00:00\u001b[0m\n",
            "\u001b[?25h  Preparing metadata (setup.py) ... \u001b[?25l\u001b[?25hdone\n",
            "Building wheels for collected packages: pycld2\n",
            "  Building wheel for pycld2 (setup.py) ... \u001b[?25l\u001b[?25hdone\n",
            "  Created wheel for pycld2: filename=pycld2-0.41-cp310-cp310-linux_x86_64.whl size=9904073 sha256=4a470748396cff556dadbe778df58cb390617f35666471f40633be85793d41dd\n",
            "  Stored in directory: /root/.cache/pip/wheels/be/81/31/240c89c845e008a93d98542325270007de595bfd356eb0b06c\n",
            "Successfully built pycld2\n",
            "Installing collected packages: pycld2\n",
            "Successfully installed pycld2-0.41\n"
          ]
        }
      ],
      "source": [
        "!pip install morfessor polyglot pyICU pycld2 -U"
      ]
    },
    {
      "cell_type": "code",
      "execution_count": 7,
      "metadata": {
        "colab": {
          "base_uri": "https://localhost:8080/"
        },
        "id": "lNXpflpMiu1m",
        "outputId": "41a53a58-9865-46bc-a44e-cf09eab9fed4"
      },
      "outputs": [
        {
          "name": "stdout",
          "output_type": "stream",
          "text": [
            "[polyglot_data] Downloading package morph2.en to\n",
            "[polyglot_data]     /root/polyglot_data...\n",
            "[polyglot_data] Downloading package morph2.mr to\n",
            "[polyglot_data]     /root/polyglot_data...\n"
          ]
        }
      ],
      "source": [
        "%%bash\n",
        "polyglot download morph2.en morph2.mr"
      ]
    },
    {
      "cell_type": "code",
      "execution_count": 8,
      "metadata": {
        "colab": {
          "base_uri": "https://localhost:8080/"
        },
        "id": "PHbwEvnskJJ9",
        "outputId": "3df1f4cc-d487-4d20-9825-c6a4321ec6ea"
      },
      "outputs": [
        {
          "name": "stdout",
          "output_type": "stream",
          "text": [
            "  1. Kapampangan                2. Italian                    3. Upper Sorbian            \n",
            "  4. Sakha                      5. Hindi                      6. French                   \n",
            "  7. Spanish; Castilian         8. Vietnamese                 9. Arabic                   \n",
            " 10. Macedonian                11. Pashto, Pushto            12. Bosnian-Croatian-Serbian \n",
            " 13. Egyptian Arabic           14. Norwegian Nynorsk         15. Sundanese                \n",
            " 16. Sicilian                  17. Azerbaijani               18. Bulgarian                \n",
            " 19. Yoruba                    20. Tajik                     21. Georgian                 \n",
            " 22. Tatar                     23. Galician                  24. Malagasy                 \n",
            " 25. Uighur, Uyghur            26. Amharic                   27. Venetian                 \n",
            " 28. Yiddish                   29. Norwegian                 30. Alemannic                \n",
            " 31. Estonian                  32. West Flemish              33. Divehi; Dhivehi; Mald... \n",
            " 34. Japanese                  35. Ilokano                   36. Haitian; Haitian Creole  \n",
            " 37. Belarusian                38. Greek, Modern             39. Ossetian, Ossetic        \n",
            " 40. Welsh                     41. Malayalam                 42. Albanian                 \n",
            " 43. Marathi (Marāṭhī)         44. Armenian                  45. Slovene                  \n",
            " 46. Korean                    47. Breton                    48. Irish                    \n",
            " 49. Luxembourgish, Letzeb...  50. Bengali                   51. Serbian                  \n",
            " 52. Fiji Hindi                53. Javanese                  54. Finnish                  \n",
            " 55. Gan Chinese               56. Kirghiz, Kyrgyz           57. Catalan; Valencian       \n",
            " 58. Quechua                   59. Croatian                  60. Dutch                    \n",
            " 61. Swedish                   62. Ido                       63. Tagalog                  \n",
            " 64. Sanskrit (Saṁskṛta)       65. Piedmontese language      66. Asturian                 \n",
            " 67. Danish                    68. Cebuano                   69. Western Frisian          \n",
            " 70. Kannada                   71. Scots                     72. Maltese                  \n",
            " 73. Swahili                   74. Limburgish, Limburgan...  75. Waray-Waray              \n",
            " 76. Lombard language          77. Uzbek                     78. Kurdish                  \n",
            " 79. Latvian                   80. Burmese                   81. Aragonese                \n",
            " 82. Volapük                   83. Northern Sami             84. Faroese                  \n",
            " 85. Kazakh                    86. Telugu                    87. Ukrainian                \n",
            " 88. Assamese                  89. Chuvash                   90. Silesian                 \n",
            " 91. Turkmen                   92. Romanian, Moldavian, ...  93. Persian                  \n",
            " 94. Tibetan Standard, Tib...  95. Latin                     96. Slovak                   \n",
            " 97. Sinhala, Sinhalese        98. Bavarian                  99. Icelandic                \n",
            "100. Mongolian                101. Walloon                  102. Portuguese               \n",
            "103. Urdu                     104. Gujarati                 105. Manx                     \n",
            "106. Tamil                    107. Khmer                    108. English                  \n",
            "109. Malay                    110. Chechen                  111. Bishnupriya Manipuri     \n",
            "112. Afrikaans                113. Basque                   114. Polish                   \n",
            "115. German                   116. Esperanto                117. Indonesian               \n",
            "118. Occitan                  119. Chinese                  120. Czech                    \n",
            "121. Hebrew (modern)          122. Romansh                  123. Lithuanian               \n",
            "124. Turkish                  125. Nepali                   126. Bosnian                  \n",
            "127. Interlingua              128. Zazaki                   129. Oriya                    \n",
            "130. Hungarian                131. Scottish Gaelic; Gaelic  132. Bashkir                  \n",
            "133. Thai                     134. Panjabi, Punjabi         135. Russian                  \n",
            "\n"
          ]
        }
      ],
      "source": [
        "from polyglot.downloader import downloader\n",
        "print(downloader.supported_languages_table('morph2'))"
      ]
    },
    {
      "cell_type": "code",
      "execution_count": 9,
      "metadata": {
        "id": "2Bw6ssuvlsrC"
      },
      "outputs": [],
      "source": [
        "from polyglot.text import Text, Word"
      ]
    },
    {
      "cell_type": "code",
      "execution_count": 18,
      "metadata": {
        "id": "NGQPMenolVwX"
      },
      "outputs": [],
      "source": [
        "words = ['cats', 'computing', 'association', 'programming', 'leadership', 'miscommunication', 'identifiable', 'psychological', 'engineering', 'tabular', 'realistic', 'colorfulness', 'bestest', 'worst', 'asked', 'morphological', 'best']"
      ]
    },
    {
      "cell_type": "code",
      "execution_count": 19,
      "metadata": {
        "colab": {
          "base_uri": "https://localhost:8080/"
        },
        "id": "GiuupnZbmVn0",
        "outputId": "69129858-e6b2-43a9-b41d-d54fa359c218"
      },
      "outputs": [
        {
          "name": "stdout",
          "output_type": "stream",
          "text": [
            "cats \t\t ['cat', 's']\n",
            "computing \t\t ['com', 'put', 'ing']\n",
            "association \t\t ['associ', 'ation']\n",
            "programming \t\t ['program', 'ming']\n",
            "leadership \t\t ['leader', 'ship']\n",
            "miscommunication \t\t ['mis', 'communication']\n",
            "identifiable \t\t ['identif', 'i', 'able']\n",
            "psychological \t\t ['psycho', 'logical']\n",
            "engineering \t\t ['engine', 'er', 'ing']\n",
            "tabular \t\t ['tab', 'ular']\n",
            "realistic \t\t ['real', 'istic']\n",
            "colorfulness \t\t ['color', 'ful', 'ness']\n",
            "bestest \t\t ['best', 'est']\n",
            "worst \t\t ['wor', 'st']\n",
            "asked \t\t ['ask', 'ed']\n",
            "morphological \t\t ['morph', 'o', 'logical']\n",
            "best \t\t ['best']\n"
          ]
        }
      ],
      "source": [
        "for w in words:\n",
        "  w = Word(w, language='en')\n",
        "  print(w, '\\t\\t', w.morphemes)"
      ]
    },
    {
      "cell_type": "code",
      "execution_count": 21,
      "metadata": {
        "colab": {
          "base_uri": "https://localhost:8080/"
        },
        "id": "4cC7AgK9mxV-",
        "outputId": "9f7571da-6368-4b99-8285-6027bade2994"
      },
      "outputs": [
        {
          "name": "stdout",
          "output_type": "stream",
          "text": [
            "cats \t\t ['cat', 's']\n",
            "computing \t\t ['com', 'put', 'ing']\n",
            "association \t\t ['associ', 'ation']\n",
            "programming \t\t ['program', 'ming']\n",
            "leadership \t\t ['leader', 'ship']\n",
            "miscommunication \t\t ['mis', 'communication']\n",
            "identifiable \t\t ['identif', 'i', 'able']\n",
            "psychological \t\t ['psycho', 'logical']\n",
            "engineering \t\t ['engine', 'er', 'ing']\n",
            "tabular \t\t ['tab', 'ular']\n",
            "realistic \t\t ['real', 'istic']\n",
            "colorfulness \t\t ['color', 'ful', 'ness']\n",
            "bestest \t\t ['best', 'est']\n",
            "worst \t\t ['wor', 'st']\n",
            "asked \t\t ['ask', 'ed']\n",
            "morphological \t\t ['morph', 'o', 'logical']\n",
            "best \t\t ['best']\n"
          ]
        }
      ],
      "source": [
        "for w in words:\n",
        "  w = Text(w, hint_language_code='en')\n",
        "  print(w, '\\t\\t', w.morphemes)"
      ]
    },
    {
      "cell_type": "code",
      "execution_count": 22,
      "metadata": {
        "colab": {
          "base_uri": "https://localhost:8080/"
        },
        "id": "SAS4-L43nWLS",
        "outputId": "bc9649c8-2a61-4f60-e99c-615e69a56b06"
      },
      "outputs": [
        {
          "name": "stdout",
          "output_type": "stream",
          "text": [
            "प्रामाणिकपणा \t\t ['प्रा', 'माणिक', 'पणा']\n",
            "प्रमाणिकरण \t\t ['प्रमाण', 'िकरण']\n",
            "जलविद्युत \t\t ['जल', 'विद्युत']\n",
            "राज्यशास्त्र \t\t ['राज्य', 'शास्त्र']\n",
            "जलप्राधिकरण \t\t ['जल', 'प्राधिकरण']\n",
            "मानसशास्त्रीय \t\t ['मानस', 'शास्त्र', 'ीय']\n",
            "रविवार \t\t ['रवि', 'वार']\n",
            "महाद्वीप \t\t ['महा', 'द्वीप']\n"
          ]
        }
      ],
      "source": [
        "words = ['प्रामाणिकपणा', 'प्रमाणिकरण', 'जलविद्युत' , 'राज्यशास्त्र' , 'जलप्राधिकरण' , 'मानसशास्त्रीय' , 'रविवार' , 'महाद्वीप' ]\n",
        "for w in words:\n",
        "  w = Word(w, language='mr')\n",
        "  print(w, '\\t\\t', w.morphemes)"
      ]
    },
    {
      "cell_type": "code",
      "execution_count": 24,
      "metadata": {
        "colab": {
          "base_uri": "https://localhost:8080/"
        },
        "id": "EzkujK-NoR7g",
        "outputId": "648c0020-3191-4671-c68f-7ccb14b4a2c2"
      },
      "outputs": [
        {
          "name": "stdout",
          "output_type": "stream",
          "text": [
            "प्रामाणिकपणा \t\t ['प्रा', 'माणिक', 'पणा']\n",
            "प्रमाणिकरण \t\t ['प्रमाण', 'िकरण']\n",
            "जलविद्युत \t\t ['जल', 'विद्युत']\n",
            "राज्यशास्त्र \t\t ['राज्य', 'शास्त्र']\n",
            "जलप्राधिकरण \t\t ['जल', 'प्राधिकरण']\n",
            "मानसशास्त्रीय \t\t ['मानस', 'शास्त्र', 'ीय']\n",
            "रविवार \t\t ['रवि', 'वार']\n",
            "महाद्वीप \t\t ['महा', 'द्वीप']\n"
          ]
        }
      ],
      "source": [
        "for w in words:\n",
        "  w = Text(w, hint_language_code='mr')\n",
        "  print(w, '\\t\\t', w.morphemes)"
      ]
    },
    {
      "cell_type": "code",
      "execution_count": 29,
      "metadata": {
        "id": "5-7jUZkWoX8u"
      },
      "outputs": [],
      "source": [
        "blob = 'Wewillmeettomorrow.'\n",
        "text = Text(blob)\n",
        "text.language = 'en'"
      ]
    },
    {
      "cell_type": "code",
      "execution_count": 27,
      "metadata": {
        "colab": {
          "base_uri": "https://localhost:8080/"
        },
        "id": "wfzCo5FYpMBH",
        "outputId": "521dd477-c82a-4864-e6e6-a2ec93e9db96"
      },
      "outputs": [
        {
          "data": {
            "text/plain": [
              "Text(\"Wewillmeettoday.\")"
            ]
          },
          "execution_count": 27,
          "metadata": {},
          "output_type": "execute_result"
        }
      ],
      "source": [
        "text"
      ]
    },
    {
      "cell_type": "code",
      "execution_count": 30,
      "metadata": {
        "colab": {
          "base_uri": "https://localhost:8080/"
        },
        "id": "9MzLJZJvpRih",
        "outputId": "4397e96e-9dd5-43ea-e7e4-248906f86250"
      },
      "outputs": [
        {
          "data": {
            "text/plain": [
              "WordList(['We', 'will', 'meet', 'tom', 'or', 'row', '.'])"
            ]
          },
          "execution_count": 30,
          "metadata": {},
          "output_type": "execute_result"
        }
      ],
      "source": [
        "text.morphemes"
      ]
    }
  ],
  "metadata": {
    "colab": {
      "provenance": []
    },
    "kernelspec": {
      "display_name": "Python 3",
      "name": "python3"
    },
    "language_info": {
      "name": "python",
      "version": "3.11.7"
    }
  },
  "nbformat": 4,
  "nbformat_minor": 0
}
